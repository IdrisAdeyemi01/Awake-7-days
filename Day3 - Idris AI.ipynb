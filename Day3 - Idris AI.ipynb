{
 "cells": [
  {
   "cell_type": "code",
   "execution_count": 40,
   "metadata": {},
   "outputs": [],
   "source": [
    "def players_checker():\n",
    "    names= []\n",
    "    feet= []\n",
    "    inches= []\n",
    "    weight= []\n",
    "    number_of_players= int(input('Write the number of players you want to checkout here: '))\n",
    "    \n",
    "    for i in  range(number_of_players):\n",
    "        namer= input('Write the name of the player: ')\n",
    "        names.append(namer)\n",
    "\n",
    "        feet_input= float(input('Write the feet of the player: '))\n",
    "        feet.append(feet_input)\n",
    "\n",
    "        inch = float(input('How many inches is this player: '))\n",
    "        inches.append(inch)\n",
    "\n",
    "        weight_input= float(input('What is the weight of the player: '))\n",
    "        weight.append(weight_input)\n",
    "\n",
    "    #To print out the respective names, feet, inches and weight in the format provided \n",
    "    for i in range(len(names)):\n",
    "        print(names[i])\n",
    "        print(feet[i], inches[i], weight[i])\n",
    "\n",
    "    #To calculate the average and then print it out\n",
    "    average_feet= sum(feet)/len(feet)\n",
    "    average_inch= sum(inches)/len(inches)\n",
    "    average_weight= sum(weight)/len(weight)\n",
    "    \n",
    "    # To print out the averages to 2 decimal places\n",
    "    print ('The average feet is', round(average_feet, 2), ', the average inches is', \n",
    "           round(average_inch, 2), 'and the average weight is', round(average_weight, 2))\n",
    "\n"
   ]
  },
  {
   "cell_type": "markdown",
   "metadata": {},
   "source": [
    "#### Example"
   ]
  },
  {
   "cell_type": "code",
   "execution_count": 41,
   "metadata": {},
   "outputs": [
    {
     "name": "stdout",
     "output_type": "stream",
     "text": [
      "Write the number of players you want to checkout here: 5\n",
      "Write the name of the player: Idris Idris\n",
      "Write the feet of the player: 12\n",
      "How many inches is this player: 23\n",
      "What is the weight of the player: 67\n",
      "Write the name of the player: Musa Abdullah\n",
      "Write the feet of the player: 23\n",
      "How many inches is this player: 26\n",
      "What is the weight of the player: 65\n",
      "Write the name of the player: Musa AbdulKareem\n",
      "Write the feet of the player: 32\n",
      "How many inches is this player: 39\n",
      "What is the weight of the player: 59\n",
      "Write the name of the player: Abdullah Cap\n",
      "Write the feet of the player: 22\n",
      "How many inches is this player: 25\n",
      "What is the weight of the player: 60\n",
      "Write the name of the player: Lamina A'Quadri\n",
      "Write the feet of the player: 23\n",
      "How many inches is this player: 30\n",
      "What is the weight of the player: 61.3\n",
      "Idris Idris\n",
      "12.0 23.0 67.0\n",
      "Musa Abdullah\n",
      "23.0 26.0 65.0\n",
      "Musa AbdulKareem\n",
      "32.0 39.0 59.0\n",
      "Abdullah Cap\n",
      "22.0 25.0 60.0\n",
      "Lamina A'Quadri\n",
      "23.0 30.0 61.3\n",
      "The average feet is 22.4 , the average inches is 28.6 and the average weight is 62.46\n"
     ]
    }
   ],
   "source": [
    "players_checker()"
   ]
  },
  {
   "cell_type": "code",
   "execution_count": null,
   "metadata": {},
   "outputs": [],
   "source": []
  },
  {
   "cell_type": "code",
   "execution_count": null,
   "metadata": {},
   "outputs": [],
   "source": []
  }
 ],
 "metadata": {
  "kernelspec": {
   "display_name": "Python 3",
   "language": "python",
   "name": "python3"
  },
  "language_info": {
   "codemirror_mode": {
    "name": "ipython",
    "version": 3
   },
   "file_extension": ".py",
   "mimetype": "text/x-python",
   "name": "python",
   "nbconvert_exporter": "python",
   "pygments_lexer": "ipython3",
   "version": "3.6.4"
  }
 },
 "nbformat": 4,
 "nbformat_minor": 2
}
