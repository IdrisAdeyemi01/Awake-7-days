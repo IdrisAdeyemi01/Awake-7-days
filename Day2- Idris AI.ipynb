{
 "cells": [
  {
   "cell_type": "code",
   "execution_count": 2,
   "metadata": {},
   "outputs": [
    {
     "name": "stdout",
     "output_type": "stream",
     "text": [
      "Number of lowercase =  8 while number of uppercase =  6\n"
     ]
    }
   ],
   "source": [
    "string = 'Tutorials POINT'\n",
    "\n",
    "lowercase= 0\n",
    "uppercase= 0\n",
    "for char in string:\n",
    "    if type(char)!= str:\n",
    "        del(char)\n",
    "    elif char.islower():\n",
    "        lowercase+= 1\n",
    "    elif char.isupper():\n",
    "        uppercase+= 1\n",
    "        \n",
    "print('Number of lowercase = ', lowercase, 'while number of uppercase = ', uppercase)"
   ]
  },
  {
   "cell_type": "code",
   "execution_count": null,
   "metadata": {},
   "outputs": [],
   "source": []
  }
 ],
 "metadata": {
  "kernelspec": {
   "display_name": "Python 3",
   "language": "python",
   "name": "python3"
  },
  "language_info": {
   "codemirror_mode": {
    "name": "ipython",
    "version": 3
   },
   "file_extension": ".py",
   "mimetype": "text/x-python",
   "name": "python",
   "nbconvert_exporter": "python",
   "pygments_lexer": "ipython3",
   "version": "3.6.4"
  }
 },
 "nbformat": 4,
 "nbformat_minor": 2
}
