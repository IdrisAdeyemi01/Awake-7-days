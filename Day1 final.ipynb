{
 "cells": [
  {
   "cell_type": "code",
   "execution_count": null,
   "metadata": {},
   "outputs": [],
   "source": [
    "begin = input('Do you want to start(yes/no): ').lower()\n",
    "# If the user inputs anything but yes, the code stops working, Thanks.\n",
    "while begin== 'yes':\n",
    "    months = ['January', 'February', 'March', 'April', 'May', 'June', 'July', 'August', 'September', 'October', 'November', 'December']\n",
    "    no_of_days= [0, 31, 28, 31, 30, 31, 30, 31, 31, 30, 31, 30, 31]\n",
    "    month_num= [0, 1, 2, 3, 4, 5, 6, 7, 8, 9, 10, 11, 12]\n",
    "\n",
    "    date= input('Enter the date here(MM/DD/YYYY): ')\n",
    "    if '/' not in date:\n",
    "        print('Not Valid')\n",
    "        begin = input('Do you want to continue(yes/no): ').lower()\n",
    "        continue\n",
    "    \n",
    "    splitted_date= date.split('/')\n",
    "    mm = int(splitted_date[0])\n",
    "    dd= int(splitted_date[1])\n",
    "    year= int(splitted_date[2])\n",
    "\n",
    "    def leapyear(year):\n",
    "        if year%4==0:\n",
    "            if year%100==0:\n",
    "                if year%400==0:\n",
    "                    return True\n",
    "                else:\n",
    "                    return False\n",
    "            else:\n",
    "                return True\n",
    "        else:\n",
    "            return False\n",
    "\n",
    "    leapyear(year)\n",
    "\n",
    "    if leapyear(year)==True:\n",
    "        no_of_days[2] = 29\n",
    "\n",
    "    def date_valid():\n",
    "        if mm<=12: #and len(str(year))==4:\n",
    "            #This code assumes the years begin from 1 and ends at an undefined year\n",
    "            if dd<= no_of_days[month_num[mm]]:\n",
    "                return 'Valid Date!!!'\n",
    "            else:\n",
    "                return 'Not Valid'\n",
    "        else:\n",
    "            return 'Not Valid'\n",
    "    print(date_valid())\n",
    "    if date_valid()== 'Not Valid':\n",
    "        begin = input('Do you want to continue(yes/no): ').lower()   \n",
    "\n",
    "    def date_position():\n",
    "        if date_valid()== 'Valid Date!!!':\n",
    "            date_position= dd\n",
    "            for i in no_of_days[:mm]:\n",
    "                date_position += i\n",
    "            print('The position of this date is', date_position)\n",
    "            begin = input('Do you want to continue(yes/no): ').lower()\n",
    "    date_position()\n"
   ]
  }
 ],
 "metadata": {
  "kernelspec": {
   "display_name": "Python 3",
   "language": "python",
   "name": "python3"
  },
  "language_info": {
   "codemirror_mode": {
    "name": "ipython",
    "version": 3
   },
   "file_extension": ".py",
   "mimetype": "text/x-python",
   "name": "python",
   "nbconvert_exporter": "python",
   "pygments_lexer": "ipython3",
   "version": "3.6.4"
  }
 },
 "nbformat": 4,
 "nbformat_minor": 2
}
